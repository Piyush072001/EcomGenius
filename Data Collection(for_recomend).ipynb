{
 "cells": [
  {
   "cell_type": "code",
   "execution_count": 1,
   "metadata": {},
   "outputs": [],
   "source": [
    "import pandas as pd\n",
    "import numpy as np"
   ]
  },
  {
   "cell_type": "code",
   "execution_count": 2,
   "metadata": {},
   "outputs": [
    {
     "name": "stdout",
     "output_type": "stream",
     "text": [
      "     user_id  product_id    action\n",
      "0         52          34      view\n",
      "1         93          47      view\n",
      "2         15           8      view\n",
      "3         72          40      view\n",
      "4         61          49      view\n",
      "..       ...         ...       ...\n",
      "995       10          41      view\n",
      "996       67          13      view\n",
      "997       18          30  purchase\n",
      "998      100          33      view\n",
      "999       86          13      view\n",
      "\n",
      "[1000 rows x 3 columns]\n"
     ]
    }
   ],
   "source": [
    "np.random.seed(42)\n",
    "\n",
    "num_users=100\n",
    "num_products=50\n",
    "num_interactions=1000\n",
    "\n",
    "user_ids = np.random.choice(range(1, num_users+1), num_interactions)\n",
    "product_ids = np.random.choice(range(1, num_products+1), num_interactions)\n",
    "actions = np.random.choice(['view', 'click', 'purchase'], num_interactions, p=[0.7, 0.2, 0.1])\n",
    "\n",
    "# Create DataFrame\n",
    "data = pd.DataFrame({'user_id': user_ids, 'product_id': product_ids, 'action': actions})\n",
    "\n",
    "# Display a sample of the dataset\n",
    "print(data)"
   ]
  },
  {
   "cell_type": "code",
   "execution_count": 3,
   "metadata": {},
   "outputs": [
    {
     "name": "stdout",
     "output_type": "stream",
     "text": [
      "   user_id  product_id action  rating\n",
      "0       52          34   view       1\n",
      "1       93          47   view       1\n",
      "2       15           8   view       1\n",
      "3       72          40   view       1\n",
      "4       61          49   view       1\n"
     ]
    }
   ],
   "source": [
    "# Step 2: Convert actions to ratings\n",
    "# Mapping actions to numerical ratings\n",
    "action_to_rating = {'view': 1, 'click': 2, 'purchase': 3}\n",
    "data['rating'] = data['action'].map(action_to_rating)\n",
    "\n",
    "# Step 3: Create a user-item interaction matrix\n",
    "# Pivot table to create the interaction matrix\n",
    "interaction_matrix = data.pivot_table(index='user_id', columns='product_id', values='rating', fill_value=0)\n",
    "\n",
    "# Display a sample of the dataset\n",
    "print(data.head())\n"
   ]
  },
  {
   "cell_type": "code",
   "execution_count": 4,
   "metadata": {},
   "outputs": [
    {
     "name": "stdout",
     "output_type": "stream",
     "text": [
      "product_id   1    2    3    4    5    6    7    8    9    10  ...   41   42  \\\n",
      "user_id                                                       ...             \n",
      "1           0.0  0.0  1.0  0.0  0.0  0.0  0.0  0.0  0.0  0.0  ...  0.0  0.0   \n",
      "2           0.0  0.0  0.0  3.0  0.0  2.0  0.0  0.0  0.0  0.0  ...  0.0  0.0   \n",
      "3           0.0  0.0  0.0  0.0  0.0  0.0  0.0  0.0  0.0  0.0  ...  0.0  0.0   \n",
      "4           0.0  2.0  0.0  0.0  0.0  0.0  0.0  0.0  0.0  1.0  ...  0.0  0.0   \n",
      "5           0.0  0.0  0.0  0.0  0.0  2.0  0.0  0.0  0.0  0.0  ...  0.0  1.0   \n",
      "\n",
      "product_id   43   44   45   46   47   48   49   50  \n",
      "user_id                                             \n",
      "1           0.0  0.0  0.0  0.0  0.0  0.0  1.0  0.0  \n",
      "2           0.0  0.0  1.0  0.0  0.0  0.0  0.0  0.0  \n",
      "3           0.0  0.0  1.0  0.0  0.0  0.0  3.0  0.0  \n",
      "4           0.0  0.0  0.0  0.0  0.0  0.0  0.0  0.0  \n",
      "5           0.0  0.0  1.0  0.0  0.0  0.0  0.0  0.0  \n",
      "\n",
      "[5 rows x 50 columns]\n"
     ]
    }
   ],
   "source": [
    "print(interaction_matrix.head())"
   ]
  },
  {
   "cell_type": "code",
   "execution_count": 5,
   "metadata": {},
   "outputs": [],
   "source": [
    "import tensorflow as tf\n",
    "from tensorflow.keras.layers import Embedding, Input, Dot, Flatten, Dense\n",
    "from tensorflow.keras.models import Model\n",
    "from sklearn.model_selection import train_test_split"
   ]
  },
  {
   "cell_type": "code",
   "execution_count": 6,
   "metadata": {},
   "outputs": [],
   "source": [
    "user_ids = data['user_id'].values\n",
    "product_ids = data['product_id'].values\n",
    "ratings = data['rating'].values\n",
    "\n",
    "train_user_ids, test_user_ids, train_product_ids, test_product_ids, train_ratings, test_ratings = train_test_split(\n",
    "    user_ids, product_ids, ratings, test_size=0.2, random_state=42)"
   ]
  },
  {
   "cell_type": "code",
   "execution_count": 7,
   "metadata": {},
   "outputs": [],
   "source": [
    "\n",
    "\n",
    "\n",
    "# Prepare the data for training\n",
    "user_ids = data['user_id'].values\n",
    "product_ids = data['product_id'].values\n",
    "ratings = data['rating'].values\n",
    "\n",
    "train_user_ids, test_user_ids, train_product_ids, test_product_ids, train_ratings, test_ratings = train_test_split(\n",
    "    user_ids, product_ids, ratings, test_size=0.2, random_state=42)\n",
    "\n",
    "\n",
    "\n"
   ]
  },
  {
   "cell_type": "code",
   "execution_count": 8,
   "metadata": {},
   "outputs": [
    {
     "name": "stdout",
     "output_type": "stream",
     "text": [
      "Epoch 1/10\n"
     ]
    }
   ],
   "source": [
    "# Build the model\n",
    "num_users = len(data['user_id'].unique())\n",
    "num_products = len(data['product_id'].unique())\n",
    "embedding_size = 50\n",
    "\n",
    "user_input = Input(shape=(1,))\n",
    "user_embedding = Embedding(num_users + 1, embedding_size)(user_input)\n",
    "user_vec = Flatten()(user_embedding)\n",
    "\n",
    "product_input = Input(shape=(1,))\n",
    "product_embedding = Embedding(num_products + 1, embedding_size)(product_input)\n",
    "product_vec = Flatten()(product_embedding)\n",
    "\n",
    "dot_product = Dot(axes=1)([user_vec, product_vec])\n",
    "output = Dense(1)(dot_product)\n",
    "\n",
    "model = Model(inputs=[user_input, product_input], outputs=output)\n",
    "model.compile(optimizer='adam', loss='mean_squared_error')\n",
    "\n",
    "# Train the model\n",
    "model.fit([train_user_ids, train_product_ids], train_ratings, epochs=10, verbose=1)\n",
    "\n",
    "# Evaluate the model\n",
    "loss = model.evaluate([test_user_ids, test_product_ids], test_ratings)\n",
    "print(f'Test loss: {loss}')"
   ]
  },
  {
   "cell_type": "code",
   "execution_count": null,
   "metadata": {},
   "outputs": [],
   "source": [
    "\n",
    "from sklearn.metrics import precision_recall_fscore_support\n",
    "\n",
    "# Ensure true_actions are converted to strings\n",
    "rating_to_action = {1: 'view', 2: 'click', 3: 'purchase'}\n",
    "true_actions = [rating_to_action[rating] if rating in rating_to_action else 'unknown' for rating in test_ratings]\n",
    "\n",
    "# Round the predicted ratings and convert to actions\n",
    "predicted_ratings = np.round(predicted_ratings).astype(int)\n",
    "predicted_actions = [rating_to_action[rating] if rating in rating_to_action else 'unknown' for rating in predicted_ratings]\n",
    "\n",
    "# Filter out 'unknown' actions\n",
    "filtered_true_actions = []\n",
    "filtered_predicted_actions = []\n",
    "\n",
    "for true_action, predicted_action in zip(true_actions, predicted_actions):\n",
    "    if predicted_action != 'unknown':\n",
    "        filtered_true_actions.append(true_action)\n",
    "        filtered_predicted_actions.append(predicted_action)\n",
    "\n",
    "# Calculate metrics\n",
    "precision, recall, f1, _ = precision_recall_fscore_support(filtered_true_actions, filtered_predicted_actions, average='weighted')\n",
    "\n",
    "print(f'Precision: {precision}')\n",
    "print(f'Recall: {recall}')\n",
    "print(f'F1 Score: {f1}')\n"
   ]
  }
 ],
 "metadata": {
  "kernelspec": {
   "display_name": "venv",
   "language": "python",
   "name": "python3"
  },
  "language_info": {
   "codemirror_mode": {
    "name": "ipython",
    "version": 3
   },
   "file_extension": ".py",
   "mimetype": "text/x-python",
   "name": "python",
   "nbconvert_exporter": "python",
   "pygments_lexer": "ipython3",
   "version": "3.11.5"
  }
 },
 "nbformat": 4,
 "nbformat_minor": 2
}
