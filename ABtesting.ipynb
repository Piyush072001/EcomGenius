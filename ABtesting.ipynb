{
 "cells": [
  {
   "cell_type": "code",
   "execution_count": 1,
   "metadata": {},
   "outputs": [],
   "source": [
    "import numpy as np\n",
    "import pandas as pd\n",
    "\n",
    "# Simulated user IDs\n",
    "user_ids = np.arange(1000)\n"
   ]
  },
  {
   "cell_type": "code",
   "execution_count": 2,
   "metadata": {},
   "outputs": [],
   "source": [
    "# Randomly assign users to A (50%) or B (50%)\n",
    "np.random.seed(42)\n",
    "assignment = np.random.choice(['A', 'B'], size=len(user_ids))\n"
   ]
  },
  {
   "cell_type": "code",
   "execution_count": 3,
   "metadata": {},
   "outputs": [],
   "source": [
    "# Create a DataFrame to track assignments\n",
    "user_assignments = pd.DataFrame({'user_id': user_ids, 'variant': assignment})\n"
   ]
  },
  {
   "cell_type": "code",
   "execution_count": 4,
   "metadata": {},
   "outputs": [],
   "source": [
    "# Dummy implementations for illustration purposes\n",
    "def model_A_recommendations(user_id):\n",
    "    # Generate recommendations using model A\n",
    "    return ['product1', 'product2', 'product3']\n",
    "\n",
    "def model_B_recommendations(user_id):\n",
    "    # Generate recommendations using model B\n",
    "    return ['product4', 'product5', 'product6']\n"
   ]
  },
  {
   "cell_type": "code",
   "execution_count": 5,
   "metadata": {},
   "outputs": [],
   "source": [
    "def get_recommendations(variant, user_id):\n",
    "    if variant == 'A':\n",
    "        return model_A_recommendations(user_id)\n",
    "    elif variant == 'B':\n",
    "        return model_B_recommendations(user_id)\n"
   ]
  },
  {
   "cell_type": "code",
   "execution_count": 6,
   "metadata": {},
   "outputs": [],
   "source": [
    "\n",
    "# Simulate user interactions\n",
    "import random\n",
    "interactions = []\n",
    "\n",
    "for index, row in user_assignments.iterrows():\n",
    "    user_id = row['user_id']\n",
    "    variant = row['variant']\n",
    "    \n",
    "    recommendations = get_recommendations(variant, user_id)\n",
    "    \n",
    "    click_probability = 0.3  # 30% chance to click any recommendation\n",
    "    clicked_product = None\n",
    "    \n",
    "    for product in recommendations:\n",
    "        if random.random() < click_probability:\n",
    "            clicked_product = product\n",
    "            break\n",
    "    \n",
    "    interactions.append({'user_id': user_id, 'variant': variant, 'clicked_product': clicked_product})\n",
    "interaction_df = pd.DataFrame(interactions)\n"
   ]
  },
  {
   "cell_type": "code",
   "execution_count": 7,
   "metadata": {},
   "outputs": [
    {
     "data": {
      "text/html": [
       "<div>\n",
       "<style scoped>\n",
       "    .dataframe tbody tr th:only-of-type {\n",
       "        vertical-align: middle;\n",
       "    }\n",
       "\n",
       "    .dataframe tbody tr th {\n",
       "        vertical-align: top;\n",
       "    }\n",
       "\n",
       "    .dataframe thead th {\n",
       "        text-align: right;\n",
       "    }\n",
       "</style>\n",
       "<table border=\"1\" class=\"dataframe\">\n",
       "  <thead>\n",
       "    <tr style=\"text-align: right;\">\n",
       "      <th></th>\n",
       "      <th>user_id</th>\n",
       "      <th>variant</th>\n",
       "      <th>clicked_product</th>\n",
       "    </tr>\n",
       "  </thead>\n",
       "  <tbody>\n",
       "    <tr>\n",
       "      <th>0</th>\n",
       "      <td>0</td>\n",
       "      <td>A</td>\n",
       "      <td>product1</td>\n",
       "    </tr>\n",
       "    <tr>\n",
       "      <th>1</th>\n",
       "      <td>1</td>\n",
       "      <td>B</td>\n",
       "      <td>product5</td>\n",
       "    </tr>\n",
       "    <tr>\n",
       "      <th>2</th>\n",
       "      <td>2</td>\n",
       "      <td>A</td>\n",
       "      <td>None</td>\n",
       "    </tr>\n",
       "    <tr>\n",
       "      <th>3</th>\n",
       "      <td>3</td>\n",
       "      <td>A</td>\n",
       "      <td>product1</td>\n",
       "    </tr>\n",
       "    <tr>\n",
       "      <th>4</th>\n",
       "      <td>4</td>\n",
       "      <td>A</td>\n",
       "      <td>product1</td>\n",
       "    </tr>\n",
       "    <tr>\n",
       "      <th>...</th>\n",
       "      <td>...</td>\n",
       "      <td>...</td>\n",
       "      <td>...</td>\n",
       "    </tr>\n",
       "    <tr>\n",
       "      <th>995</th>\n",
       "      <td>995</td>\n",
       "      <td>A</td>\n",
       "      <td>product2</td>\n",
       "    </tr>\n",
       "    <tr>\n",
       "      <th>996</th>\n",
       "      <td>996</td>\n",
       "      <td>A</td>\n",
       "      <td>product3</td>\n",
       "    </tr>\n",
       "    <tr>\n",
       "      <th>997</th>\n",
       "      <td>997</td>\n",
       "      <td>B</td>\n",
       "      <td>None</td>\n",
       "    </tr>\n",
       "    <tr>\n",
       "      <th>998</th>\n",
       "      <td>998</td>\n",
       "      <td>B</td>\n",
       "      <td>product5</td>\n",
       "    </tr>\n",
       "    <tr>\n",
       "      <th>999</th>\n",
       "      <td>999</td>\n",
       "      <td>A</td>\n",
       "      <td>product2</td>\n",
       "    </tr>\n",
       "  </tbody>\n",
       "</table>\n",
       "<p>1000 rows × 3 columns</p>\n",
       "</div>"
      ],
      "text/plain": [
       "     user_id variant clicked_product\n",
       "0          0       A        product1\n",
       "1          1       B        product5\n",
       "2          2       A            None\n",
       "3          3       A        product1\n",
       "4          4       A        product1\n",
       "..       ...     ...             ...\n",
       "995      995       A        product2\n",
       "996      996       A        product3\n",
       "997      997       B            None\n",
       "998      998       B        product5\n",
       "999      999       A        product2\n",
       "\n",
       "[1000 rows x 3 columns]"
      ]
     },
     "execution_count": 7,
     "metadata": {},
     "output_type": "execute_result"
    }
   ],
   "source": [
    "interaction_df"
   ]
  },
  {
   "cell_type": "code",
   "execution_count": 9,
   "metadata": {},
   "outputs": [
    {
     "name": "stdout",
     "output_type": "stream",
     "text": [
      "CTR for Variant A: 0.6755102040816326\n",
      "CTR for Variant B: 0.6764705882352942\n"
     ]
    }
   ],
   "source": [
    "# Calculate CTR for each variant with realistic simulation\n",
    "clicked_interactions = interaction_df[interaction_df['clicked_product'].notnull()]\n",
    "# Calculate CTR for each variant\n",
    "clicks_A = clicked_interactions[clicked_interactions['variant'] == 'A'].shape[0]\n",
    "clicks_B = clicked_interactions[clicked_interactions['variant'] == 'B'].shape[0]\n",
    "\n",
    "users_A = user_assignments[user_assignments['variant'] == 'A'].shape[0]\n",
    "users_B = user_assignments[user_assignments['variant'] == 'B'].shape[0]\n",
    "\n",
    "ctr_A = clicks_A / users_A\n",
    "ctr_B = clicks_B / users_B\n",
    "\n",
    "print(f'CTR for Variant A: {ctr_A}')\n",
    "print(f'CTR for Variant B: {ctr_B}')\n"
   ]
  },
  {
   "cell_type": "code",
   "execution_count": 10,
   "metadata": {},
   "outputs": [],
   "source": [
    "from statsmodels.stats.proportion import proportions_ztest"
   ]
  },
  {
   "cell_type": "code",
   "execution_count": 11,
   "metadata": {},
   "outputs": [
    {
     "name": "stdout",
     "output_type": "stream",
     "text": [
      "Z-statistic: -0.03244010569744088\n",
      "P-value: 0.9741210795848765\n",
      "The difference in CTRs is not statistically significant.\n"
     ]
    }
   ],
   "source": [
    "# Conduct two-proportion z-test\n",
    "count = np.array([clicks_A, clicks_B])\n",
    "nobs = np.array([users_A, users_B])\n",
    "\n",
    "z_stat, p_value = proportions_ztest(count, nobs)\n",
    "print(f'Z-statistic: {z_stat}')\n",
    "print(f'P-value: {p_value}')\n",
    "\n",
    "# Interpret the result\n",
    "alpha = 0.05\n",
    "if p_value < alpha:\n",
    "    print(\"The difference in CTRs is statistically significant.\")\n",
    "else:\n",
    "    print(\"The difference in CTRs is not statistically significant.\")"
   ]
  }
 ],
 "metadata": {
  "kernelspec": {
   "display_name": "venv",
   "language": "python",
   "name": "python3"
  },
  "language_info": {
   "codemirror_mode": {
    "name": "ipython",
    "version": 3
   },
   "file_extension": ".py",
   "mimetype": "text/x-python",
   "name": "python",
   "nbconvert_exporter": "python",
   "pygments_lexer": "ipython3",
   "version": "3.11.5"
  }
 },
 "nbformat": 4,
 "nbformat_minor": 2
}
